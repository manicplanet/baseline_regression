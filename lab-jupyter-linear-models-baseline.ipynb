{
 "cells": [
  {
   "cell_type": "markdown",
   "metadata": {},
   "source": [
    "<a href=\"https://cognitiveclass.ai/?utm_medium=Exinfluencer&utm_source=Exinfluencer&utm_content=000026UJ&utm_term=10006555&utm_id=NA-SkillsNetwork-Channel-SkillsNetworkCoursesIBMDeveloperSkillsNetworkRP0321ENSkillsNetwork25371262-2021-01-01\">\n",
    "    <img src=\"https://cf-courses-data.s3.us.cloud-object-storage.appdomain.cloud/IBMDeveloperSkillsNetwork-RP0101EN-Coursera/v2/M1_R_Basics/images/IDSNlogo.png\" width=\"200\" align=\"center\">\n",
    "</a>\n"
   ]
  },
  {
   "cell_type": "markdown",
   "metadata": {},
   "source": [
    "<h1>Predict Hourly Rented Bike Count using Basic Linear Regression Models</h1>\n",
    "\n",
    "Estimated time needed: **90** minutes\n"
   ]
  },
  {
   "cell_type": "markdown",
   "metadata": {},
   "source": [
    "## Lab Overview:\n",
    "\n",
    "Now that you have performed exploratory analysis on the bike sharing demand dataset and obtained some insights on the attributes, it's time to build predictive models to predict the hourly rented bike count using related weather and date information.\n",
    "\n",
    "In this lab, you will be asked to use `tidymodels` to build some baseline linear regression models:\n",
    "\n",
    "*   **TASK: Split data into training and testing datasets**\n",
    "*   **TASK: Build a linear regression model using only the weather variables**\n",
    "*   **TASK: Build a linear regression model using both weather and date variables**\n",
    "*   **TASK: Evaluate the models and identify important variables**\n",
    "\n",
    "Let's start!\n"
   ]
  },
  {
   "cell_type": "markdown",
   "metadata": {},
   "source": [
    "First install and import the necessary libraries\n"
   ]
  },
  {
   "cell_type": "code",
   "execution_count": 3,
   "metadata": {},
   "outputs": [
    {
     "name": "stderr",
     "output_type": "stream",
     "text": [
      "Updating HTML index of packages in '.Library'\n",
      "Making 'packages.html' ... done\n",
      "also installing the dependencies ‘listenv’, ‘parallelly’, ‘future’, ‘warp’, ‘lhs’, ‘DiceDesign’, ‘glue’, ‘lifecycle’, ‘tidyselect’, ‘vctrs’, ‘pillar’, ‘isoband’, ‘patchwork’, ‘generics’, ‘globals’, ‘ipred’, ‘furrr’, ‘slider’, ‘ellipsis’, ‘cpp11’, ‘GPfit’, ‘pROC’, ‘broom’, ‘cli’, ‘conflicted’, ‘dials’, ‘dplyr’, ‘ggplot2’, ‘hardhat’, ‘infer’, ‘modeldata’, ‘parsnip’, ‘purrr’, ‘recipes’, ‘rsample’, ‘rstudioapi’, ‘tibble’, ‘tidyr’, ‘tune’, ‘workflows’, ‘workflowsets’, ‘yardstick’\n",
      "\n",
      "Updating HTML index of packages in '.Library'\n",
      "Making 'packages.html' ... done\n"
     ]
    }
   ],
   "source": [
    "# It may take several minutes to install those libraries in Watson Studio\n",
    "install.packages(\"rlang\")\n",
    "install.packages(\"tidymodels\")"
   ]
  },
  {
   "cell_type": "code",
   "execution_count": 4,
   "metadata": {},
   "outputs": [
    {
     "name": "stderr",
     "output_type": "stream",
     "text": [
      "Registered S3 method overwritten by 'tune':\n",
      "  method                   from   \n",
      "  required_pkgs.model_spec parsnip\n",
      "── Attaching packages ────────────────────────────────────── tidymodels 0.1.4 ──\n",
      "✔ broom        0.7.9      ✔ recipes      0.1.17\n",
      "✔ dials        0.0.10     ✔ rsample      0.1.0 \n",
      "✔ dplyr        1.0.7      ✔ tibble       3.1.5 \n",
      "✔ ggplot2      3.3.5      ✔ tidyr        1.1.4 \n",
      "✔ infer        1.0.0      ✔ tune         0.1.6 \n",
      "✔ modeldata    0.1.1      ✔ workflows    0.2.4 \n",
      "✔ parsnip      0.1.7      ✔ workflowsets 0.1.0 \n",
      "✔ purrr        0.3.4      ✔ yardstick    0.0.8 \n",
      "── Conflicts ───────────────────────────────────────── tidymodels_conflicts() ──\n",
      "✖ purrr::discard() masks scales::discard()\n",
      "✖ dplyr::filter()  masks stats::filter()\n",
      "✖ dplyr::lag()     masks stats::lag()\n",
      "✖ recipes::step()  masks stats::step()\n",
      "• Dig deeper into tidy modeling with R at https://www.tmwr.org\n",
      "Registered S3 method overwritten by 'rvest':\n",
      "  method            from\n",
      "  read_xml.response xml2\n",
      "── Attaching packages ─────────────────────────────────────── tidyverse 1.2.1 ──\n",
      "✔ readr   1.3.1     ✔ stringr 1.4.0\n",
      "✔ readr   1.3.1     ✔ forcats 0.4.0\n",
      "── Conflicts ────────────────────────────────────────── tidyverse_conflicts() ──\n",
      "✖ readr::col_factor() masks scales::col_factor()\n",
      "✖ purrr::discard()    masks scales::discard()\n",
      "✖ dplyr::filter()     masks stats::filter()\n",
      "✖ stringr::fixed()    masks recipes::fixed()\n",
      "✖ dplyr::lag()        masks stats::lag()\n",
      "✖ readr::spec()       masks yardstick::spec()\n"
     ]
    }
   ],
   "source": [
    "library(\"tidymodels\")\n",
    "library(\"tidyverse\")\n",
    "library(\"stringr\")"
   ]
  },
  {
   "cell_type": "markdown",
   "metadata": {},
   "source": [
    "The `seoul_bike_sharing_converted_normalized.csv` will be our main dataset which has following variables:\n",
    "\n",
    "The response variable:\n",
    "\n",
    "*   `RENTED BIKE COUNT`- Count of bikes rented at each hour\n",
    "\n",
    "Weather predictor variables:\n",
    "\n",
    "*   `TEMPERATURE` - Temperature in Celsius\n",
    "*   `HUMIDITY` - Unit is `%`\n",
    "*   `WIND_SPEED` - Unit is `m/s`\n",
    "*   `VISIBILITY` - Multiplied by 10m\n",
    "*   `DEW_POINT_TEMPERATURE` - The temperature to which the air would have to cool down in order to reach saturation, unit is Celsius\n",
    "*   `SOLAR_RADIATION` - MJ/m2\n",
    "*   `RAINFALL` - mm\n",
    "*   `SNOWFALL` - cm\n",
    "\n",
    "Date/time predictor variables:\n",
    "\n",
    "*   `DATE` - Year-month-day\n",
    "*   `HOUR`- Hour of he day\n",
    "*   `FUNCTIONAL DAY` - NoFunc(Non Functional Hours), Fun(Functional hours)\n",
    "*   `HOLIDAY` - Holiday/No holiday\n",
    "*   `SEASONS` - Winter, Spring, Summer, Autumn\n"
   ]
  },
  {
   "cell_type": "markdown",
   "metadata": {},
   "source": [
    "Let's read the dataset as a dataframe first:\n"
   ]
  },
  {
   "cell_type": "code",
   "execution_count": 5,
   "metadata": {},
   "outputs": [
    {
     "name": "stderr",
     "output_type": "stream",
     "text": [
      "Parsed with column specification:\n",
      "cols(\n",
      "  .default = col_double(),\n",
      "  DATE = col_character(),\n",
      "  FUNCTIONING_DAY = col_character()\n",
      ")\n",
      "See spec(...) for full column specifications.\n"
     ]
    },
    {
     "data": {
      "text/plain": [
       "cols(\n",
       "  DATE = col_character(),\n",
       "  RENTED_BIKE_COUNT = col_double(),\n",
       "  TEMPERATURE = col_double(),\n",
       "  HUMIDITY = col_double(),\n",
       "  WIND_SPEED = col_double(),\n",
       "  VISIBILITY = col_double(),\n",
       "  DEW_POINT_TEMPERATURE = col_double(),\n",
       "  SOLAR_RADIATION = col_double(),\n",
       "  RAINFALL = col_double(),\n",
       "  SNOWFALL = col_double(),\n",
       "  FUNCTIONING_DAY = col_character(),\n",
       "  `0` = col_double(),\n",
       "  `1` = col_double(),\n",
       "  `10` = col_double(),\n",
       "  `11` = col_double(),\n",
       "  `12` = col_double(),\n",
       "  `13` = col_double(),\n",
       "  `14` = col_double(),\n",
       "  `15` = col_double(),\n",
       "  `16` = col_double(),\n",
       "  `17` = col_double(),\n",
       "  `18` = col_double(),\n",
       "  `19` = col_double(),\n",
       "  `2` = col_double(),\n",
       "  `20` = col_double(),\n",
       "  `21` = col_double(),\n",
       "  `22` = col_double(),\n",
       "  `23` = col_double(),\n",
       "  `3` = col_double(),\n",
       "  `4` = col_double(),\n",
       "  `5` = col_double(),\n",
       "  `6` = col_double(),\n",
       "  `7` = col_double(),\n",
       "  `8` = col_double(),\n",
       "  `9` = col_double(),\n",
       "  AUTUMN = col_double(),\n",
       "  SPRING = col_double(),\n",
       "  SUMMER = col_double(),\n",
       "  WINTER = col_double(),\n",
       "  HOLIDAY = col_double(),\n",
       "  NO_HOLIDAY = col_double()\n",
       ")"
      ]
     },
     "metadata": {},
     "output_type": "display_data"
    }
   ],
   "source": [
    "# Dataset URL\n",
    "dataset_url <- \"https://cf-courses-data.s3.us.cloud-object-storage.appdomain.cloud/IBMDeveloperSkillsNetwork-RP0321EN-SkillsNetwork/labs/datasets/seoul_bike_sharing_converted_normalized.csv\"\n",
    "bike_sharing_df <- read_csv(dataset_url)\n",
    "spec(bike_sharing_df)"
   ]
  },
  {
   "cell_type": "markdown",
   "metadata": {},
   "source": [
    "We won't be using the `DATE` column, because 'as is', it basically acts like an data entry index. (However, given more time, we could use the `DATE` colum to create a 'day of week' or 'isWeekend' column, which we might expect has an affect on preferred bike rental times.) We also do not need the `FUNCTIONAL DAY` column because it only has one distinct value remaining (`YES`) after missing value processing.\n"
   ]
  },
  {
   "cell_type": "code",
   "execution_count": 6,
   "metadata": {},
   "outputs": [],
   "source": [
    "bike_sharing_df <- bike_sharing_df %>% \n",
    "                   select(-DATE, -FUNCTIONING_DAY)"
   ]
  },
  {
   "cell_type": "markdown",
   "metadata": {},
   "source": [
    "# TASK: Split training and testing data\n"
   ]
  },
  {
   "cell_type": "markdown",
   "metadata": {},
   "source": [
    "First, we need to split the full dataset into training and testing datasets.\n",
    "\n",
    "The training dataset will be used for fitting regression models, and the testing dataset will be used to evaluate the trained models.\n"
   ]
  },
  {
   "cell_type": "markdown",
   "metadata": {},
   "source": [
    "*TODO:* Use the `initial_split()`, `training()`, and `testing()` functions to generate a training dataset consisting of 75% of the original dataset, and a testing dataset using the remaining 25%.\n"
   ]
  },
  {
   "cell_type": "code",
   "execution_count": 7,
   "metadata": {},
   "outputs": [
    {
     "data": {
      "text/html": [
       "<table>\n",
       "<thead><tr><th scope=col>RENTED_BIKE_COUNT</th><th scope=col>TEMPERATURE</th><th scope=col>HUMIDITY</th><th scope=col>WIND_SPEED</th><th scope=col>VISIBILITY</th><th scope=col>DEW_POINT_TEMPERATURE</th><th scope=col>SOLAR_RADIATION</th><th scope=col>RAINFALL</th><th scope=col>SNOWFALL</th><th scope=col>0</th><th scope=col>...</th><th scope=col>6</th><th scope=col>7</th><th scope=col>8</th><th scope=col>9</th><th scope=col>AUTUMN</th><th scope=col>SPRING</th><th scope=col>SUMMER</th><th scope=col>WINTER</th><th scope=col>HOLIDAY</th><th scope=col>NO_HOLIDAY</th></tr></thead>\n",
       "<tbody>\n",
       "\t<tr><td>2716      </td><td>0.6066434 </td><td>0.4795918 </td><td>0.18918919</td><td>0.8160162 </td><td>0.6245675 </td><td>0.0312500 </td><td>0         </td><td>0         </td><td>0         </td><td>...       </td><td>0         </td><td>0         </td><td>0         </td><td>0         </td><td>1         </td><td>0         </td><td>0         </td><td>0         </td><td>0         </td><td>1         </td></tr>\n",
       "\t<tr><td> 419      </td><td>0.3776224 </td><td>0.7040816 </td><td>0.00000000</td><td>0.9974658 </td><td>0.5069204 </td><td>0.0000000 </td><td>0         </td><td>0         </td><td>0         </td><td>...       </td><td>1         </td><td>0         </td><td>0         </td><td>0         </td><td>1         </td><td>0         </td><td>0         </td><td>0         </td><td>0         </td><td>1         </td></tr>\n",
       "\t<tr><td>1106      </td><td>0.5716783 </td><td>0.5102041 </td><td>0.45945946</td><td>0.9944247 </td><td>0.6072664 </td><td>0.3068182 </td><td>0         </td><td>0         </td><td>0         </td><td>...       </td><td>0         </td><td>0         </td><td>0         </td><td>1         </td><td>1         </td><td>0         </td><td>0         </td><td>0         </td><td>0         </td><td>1         </td></tr>\n",
       "\t<tr><td> 154      </td><td>0.4178322 </td><td>0.7346939 </td><td>0.06756757</td><td>0.5195134 </td><td>0.5536332 </td><td>0.0000000 </td><td>0         </td><td>0         </td><td>0         </td><td>...       </td><td>0         </td><td>0         </td><td>0         </td><td>0         </td><td>1         </td><td>0         </td><td>0         </td><td>0         </td><td>0         </td><td>1         </td></tr>\n",
       "\t<tr><td> 192      </td><td>0.5000000 </td><td>0.6020408 </td><td>0.06756757</td><td>1.0000000 </td><td>0.5813149 </td><td>0.0000000 </td><td>0         </td><td>0         </td><td>0         </td><td>...       </td><td>0         </td><td>0         </td><td>0         </td><td>0         </td><td>1         </td><td>0         </td><td>0         </td><td>0         </td><td>0         </td><td>1         </td></tr>\n",
       "\t<tr><td> 213      </td><td>0.1853147 </td><td>0.3877551 </td><td>0.41891892</td><td>1.0000000 </td><td>0.1989619 </td><td>0.0000000 </td><td>0         </td><td>0         </td><td>0         </td><td>...       </td><td>0         </td><td>0         </td><td>0         </td><td>0         </td><td>0         </td><td>0         </td><td>0         </td><td>1         </td><td>0         </td><td>1         </td></tr>\n",
       "</tbody>\n",
       "</table>\n"
      ],
      "text/latex": [
       "\\begin{tabular}{r|lllllllllllllllllllllllllllllllllllllll}\n",
       " RENTED\\_BIKE\\_COUNT & TEMPERATURE & HUMIDITY & WIND\\_SPEED & VISIBILITY & DEW\\_POINT\\_TEMPERATURE & SOLAR\\_RADIATION & RAINFALL & SNOWFALL & 0 & ... & 6 & 7 & 8 & 9 & AUTUMN & SPRING & SUMMER & WINTER & HOLIDAY & NO\\_HOLIDAY\\\\\n",
       "\\hline\n",
       "\t 2716       & 0.6066434  & 0.4795918  & 0.18918919 & 0.8160162  & 0.6245675  & 0.0312500  & 0          & 0          & 0          & ...        & 0          & 0          & 0          & 0          & 1          & 0          & 0          & 0          & 0          & 1         \\\\\n",
       "\t  419       & 0.3776224  & 0.7040816  & 0.00000000 & 0.9974658  & 0.5069204  & 0.0000000  & 0          & 0          & 0          & ...        & 1          & 0          & 0          & 0          & 1          & 0          & 0          & 0          & 0          & 1         \\\\\n",
       "\t 1106       & 0.5716783  & 0.5102041  & 0.45945946 & 0.9944247  & 0.6072664  & 0.3068182  & 0          & 0          & 0          & ...        & 0          & 0          & 0          & 1          & 1          & 0          & 0          & 0          & 0          & 1         \\\\\n",
       "\t  154       & 0.4178322  & 0.7346939  & 0.06756757 & 0.5195134  & 0.5536332  & 0.0000000  & 0          & 0          & 0          & ...        & 0          & 0          & 0          & 0          & 1          & 0          & 0          & 0          & 0          & 1         \\\\\n",
       "\t  192       & 0.5000000  & 0.6020408  & 0.06756757 & 1.0000000  & 0.5813149  & 0.0000000  & 0          & 0          & 0          & ...        & 0          & 0          & 0          & 0          & 1          & 0          & 0          & 0          & 0          & 1         \\\\\n",
       "\t  213       & 0.1853147  & 0.3877551  & 0.41891892 & 1.0000000  & 0.1989619  & 0.0000000  & 0          & 0          & 0          & ...        & 0          & 0          & 0          & 0          & 0          & 0          & 0          & 1          & 0          & 1         \\\\\n",
       "\\end{tabular}\n"
      ],
      "text/markdown": [
       "\n",
       "| RENTED_BIKE_COUNT | TEMPERATURE | HUMIDITY | WIND_SPEED | VISIBILITY | DEW_POINT_TEMPERATURE | SOLAR_RADIATION | RAINFALL | SNOWFALL | 0 | ... | 6 | 7 | 8 | 9 | AUTUMN | SPRING | SUMMER | WINTER | HOLIDAY | NO_HOLIDAY |\n",
       "|---|---|---|---|---|---|---|---|---|---|---|---|---|---|---|---|---|---|---|---|---|\n",
       "| 2716       | 0.6066434  | 0.4795918  | 0.18918919 | 0.8160162  | 0.6245675  | 0.0312500  | 0          | 0          | 0          | ...        | 0          | 0          | 0          | 0          | 1          | 0          | 0          | 0          | 0          | 1          |\n",
       "|  419       | 0.3776224  | 0.7040816  | 0.00000000 | 0.9974658  | 0.5069204  | 0.0000000  | 0          | 0          | 0          | ...        | 1          | 0          | 0          | 0          | 1          | 0          | 0          | 0          | 0          | 1          |\n",
       "| 1106       | 0.5716783  | 0.5102041  | 0.45945946 | 0.9944247  | 0.6072664  | 0.3068182  | 0          | 0          | 0          | ...        | 0          | 0          | 0          | 1          | 1          | 0          | 0          | 0          | 0          | 1          |\n",
       "|  154       | 0.4178322  | 0.7346939  | 0.06756757 | 0.5195134  | 0.5536332  | 0.0000000  | 0          | 0          | 0          | ...        | 0          | 0          | 0          | 0          | 1          | 0          | 0          | 0          | 0          | 1          |\n",
       "|  192       | 0.5000000  | 0.6020408  | 0.06756757 | 1.0000000  | 0.5813149  | 0.0000000  | 0          | 0          | 0          | ...        | 0          | 0          | 0          | 0          | 1          | 0          | 0          | 0          | 0          | 1          |\n",
       "|  213       | 0.1853147  | 0.3877551  | 0.41891892 | 1.0000000  | 0.1989619  | 0.0000000  | 0          | 0          | 0          | ...        | 0          | 0          | 0          | 0          | 0          | 0          | 0          | 1          | 0          | 1          |\n",
       "\n"
      ],
      "text/plain": [
       "  RENTED_BIKE_COUNT TEMPERATURE HUMIDITY  WIND_SPEED VISIBILITY\n",
       "1 2716              0.6066434   0.4795918 0.18918919 0.8160162 \n",
       "2  419              0.3776224   0.7040816 0.00000000 0.9974658 \n",
       "3 1106              0.5716783   0.5102041 0.45945946 0.9944247 \n",
       "4  154              0.4178322   0.7346939 0.06756757 0.5195134 \n",
       "5  192              0.5000000   0.6020408 0.06756757 1.0000000 \n",
       "6  213              0.1853147   0.3877551 0.41891892 1.0000000 \n",
       "  DEW_POINT_TEMPERATURE SOLAR_RADIATION RAINFALL SNOWFALL 0 ... 6 7 8 9 AUTUMN\n",
       "1 0.6245675             0.0312500       0        0        0 ... 0 0 0 0 1     \n",
       "2 0.5069204             0.0000000       0        0        0 ... 1 0 0 0 1     \n",
       "3 0.6072664             0.3068182       0        0        0 ... 0 0 0 1 1     \n",
       "4 0.5536332             0.0000000       0        0        0 ... 0 0 0 0 1     \n",
       "5 0.5813149             0.0000000       0        0        0 ... 0 0 0 0 1     \n",
       "6 0.1989619             0.0000000       0        0        0 ... 0 0 0 0 0     \n",
       "  SPRING SUMMER WINTER HOLIDAY NO_HOLIDAY\n",
       "1 0      0      0      0       1         \n",
       "2 0      0      0      0       1         \n",
       "3 0      0      0      0       1         \n",
       "4 0      0      0      0       1         \n",
       "5 0      0      0      0       1         \n",
       "6 0      0      1      0       1         "
      ]
     },
     "metadata": {},
     "output_type": "display_data"
    },
    {
     "data": {
      "text/html": [
       "<table>\n",
       "<thead><tr><th scope=col>RENTED_BIKE_COUNT</th><th scope=col>TEMPERATURE</th><th scope=col>HUMIDITY</th><th scope=col>WIND_SPEED</th><th scope=col>VISIBILITY</th><th scope=col>DEW_POINT_TEMPERATURE</th><th scope=col>SOLAR_RADIATION</th><th scope=col>RAINFALL</th><th scope=col>SNOWFALL</th><th scope=col>0</th><th scope=col>...</th><th scope=col>6</th><th scope=col>7</th><th scope=col>8</th><th scope=col>9</th><th scope=col>AUTUMN</th><th scope=col>SPRING</th><th scope=col>SUMMER</th><th scope=col>WINTER</th><th scope=col>HOLIDAY</th><th scope=col>NO_HOLIDAY</th></tr></thead>\n",
       "<tbody>\n",
       "\t<tr><td>100       </td><td>0.1993007 </td><td>0.3775510 </td><td>0.2027027 </td><td>1.0000000 </td><td>0.2058824 </td><td>0.00000000</td><td>0         </td><td>0         </td><td>0         </td><td>...       </td><td>0         </td><td>0         </td><td>0         </td><td>0         </td><td>0         </td><td>0         </td><td>0         </td><td>1         </td><td>0         </td><td>1         </td></tr>\n",
       "\t<tr><td>181       </td><td>0.1958042 </td><td>0.3571429 </td><td>0.1756757 </td><td>1.0000000 </td><td>0.1920415 </td><td>0.00000000</td><td>0         </td><td>0         </td><td>0         </td><td>...       </td><td>1         </td><td>0         </td><td>0         </td><td>0         </td><td>0         </td><td>0         </td><td>0         </td><td>1         </td><td>0         </td><td>1         </td></tr>\n",
       "\t<tr><td>360       </td><td>0.3024476 </td><td>0.2142857 </td><td>0.1756757 </td><td>0.9675621 </td><td>0.1799308 </td><td>0.26704545</td><td>0         </td><td>0         </td><td>0         </td><td>...       </td><td>0         </td><td>0         </td><td>0         </td><td>0         </td><td>0         </td><td>0         </td><td>0         </td><td>1         </td><td>0         </td><td>1         </td></tr>\n",
       "\t<tr><td>555       </td><td>0.3251748 </td><td>0.5918367 </td><td>0.2162162 </td><td>1.0000000 </td><td>0.4169550 </td><td>0.02272727</td><td>0         </td><td>0         </td><td>0         </td><td>...       </td><td>0         </td><td>0         </td><td>0         </td><td>0         </td><td>0         </td><td>0         </td><td>0         </td><td>1         </td><td>0         </td><td>1         </td></tr>\n",
       "\t<tr><td>600       </td><td>0.3111888 </td><td>0.7857143 </td><td>0.2297297 </td><td>1.0000000 </td><td>0.4688581 </td><td>0.00000000</td><td>0         </td><td>0         </td><td>0         </td><td>...       </td><td>0         </td><td>0         </td><td>0         </td><td>0         </td><td>0         </td><td>0         </td><td>0         </td><td>1         </td><td>0         </td><td>1         </td></tr>\n",
       "\t<tr><td>405       </td><td>0.2972028 </td><td>0.8265306 </td><td>0.1081081 </td><td>0.8413583 </td><td>0.4671280 </td><td>0.00000000</td><td>0         </td><td>0         </td><td>0         </td><td>...       </td><td>0         </td><td>0         </td><td>0         </td><td>0         </td><td>0         </td><td>0         </td><td>0         </td><td>1         </td><td>0         </td><td>1         </td></tr>\n",
       "</tbody>\n",
       "</table>\n"
      ],
      "text/latex": [
       "\\begin{tabular}{r|lllllllllllllllllllllllllllllllllllllll}\n",
       " RENTED\\_BIKE\\_COUNT & TEMPERATURE & HUMIDITY & WIND\\_SPEED & VISIBILITY & DEW\\_POINT\\_TEMPERATURE & SOLAR\\_RADIATION & RAINFALL & SNOWFALL & 0 & ... & 6 & 7 & 8 & 9 & AUTUMN & SPRING & SUMMER & WINTER & HOLIDAY & NO\\_HOLIDAY\\\\\n",
       "\\hline\n",
       "\t 100        & 0.1993007  & 0.3775510  & 0.2027027  & 1.0000000  & 0.2058824  & 0.00000000 & 0          & 0          & 0          & ...        & 0          & 0          & 0          & 0          & 0          & 0          & 0          & 1          & 0          & 1         \\\\\n",
       "\t 181        & 0.1958042  & 0.3571429  & 0.1756757  & 1.0000000  & 0.1920415  & 0.00000000 & 0          & 0          & 0          & ...        & 1          & 0          & 0          & 0          & 0          & 0          & 0          & 1          & 0          & 1         \\\\\n",
       "\t 360        & 0.3024476  & 0.2142857  & 0.1756757  & 0.9675621  & 0.1799308  & 0.26704545 & 0          & 0          & 0          & ...        & 0          & 0          & 0          & 0          & 0          & 0          & 0          & 1          & 0          & 1         \\\\\n",
       "\t 555        & 0.3251748  & 0.5918367  & 0.2162162  & 1.0000000  & 0.4169550  & 0.02272727 & 0          & 0          & 0          & ...        & 0          & 0          & 0          & 0          & 0          & 0          & 0          & 1          & 0          & 1         \\\\\n",
       "\t 600        & 0.3111888  & 0.7857143  & 0.2297297  & 1.0000000  & 0.4688581  & 0.00000000 & 0          & 0          & 0          & ...        & 0          & 0          & 0          & 0          & 0          & 0          & 0          & 1          & 0          & 1         \\\\\n",
       "\t 405        & 0.2972028  & 0.8265306  & 0.1081081  & 0.8413583  & 0.4671280  & 0.00000000 & 0          & 0          & 0          & ...        & 0          & 0          & 0          & 0          & 0          & 0          & 0          & 1          & 0          & 1         \\\\\n",
       "\\end{tabular}\n"
      ],
      "text/markdown": [
       "\n",
       "| RENTED_BIKE_COUNT | TEMPERATURE | HUMIDITY | WIND_SPEED | VISIBILITY | DEW_POINT_TEMPERATURE | SOLAR_RADIATION | RAINFALL | SNOWFALL | 0 | ... | 6 | 7 | 8 | 9 | AUTUMN | SPRING | SUMMER | WINTER | HOLIDAY | NO_HOLIDAY |\n",
       "|---|---|---|---|---|---|---|---|---|---|---|---|---|---|---|---|---|---|---|---|---|\n",
       "| 100        | 0.1993007  | 0.3775510  | 0.2027027  | 1.0000000  | 0.2058824  | 0.00000000 | 0          | 0          | 0          | ...        | 0          | 0          | 0          | 0          | 0          | 0          | 0          | 1          | 0          | 1          |\n",
       "| 181        | 0.1958042  | 0.3571429  | 0.1756757  | 1.0000000  | 0.1920415  | 0.00000000 | 0          | 0          | 0          | ...        | 1          | 0          | 0          | 0          | 0          | 0          | 0          | 1          | 0          | 1          |\n",
       "| 360        | 0.3024476  | 0.2142857  | 0.1756757  | 0.9675621  | 0.1799308  | 0.26704545 | 0          | 0          | 0          | ...        | 0          | 0          | 0          | 0          | 0          | 0          | 0          | 1          | 0          | 1          |\n",
       "| 555        | 0.3251748  | 0.5918367  | 0.2162162  | 1.0000000  | 0.4169550  | 0.02272727 | 0          | 0          | 0          | ...        | 0          | 0          | 0          | 0          | 0          | 0          | 0          | 1          | 0          | 1          |\n",
       "| 600        | 0.3111888  | 0.7857143  | 0.2297297  | 1.0000000  | 0.4688581  | 0.00000000 | 0          | 0          | 0          | ...        | 0          | 0          | 0          | 0          | 0          | 0          | 0          | 1          | 0          | 1          |\n",
       "| 405        | 0.2972028  | 0.8265306  | 0.1081081  | 0.8413583  | 0.4671280  | 0.00000000 | 0          | 0          | 0          | ...        | 0          | 0          | 0          | 0          | 0          | 0          | 0          | 1          | 0          | 1          |\n",
       "\n"
      ],
      "text/plain": [
       "  RENTED_BIKE_COUNT TEMPERATURE HUMIDITY  WIND_SPEED VISIBILITY\n",
       "1 100               0.1993007   0.3775510 0.2027027  1.0000000 \n",
       "2 181               0.1958042   0.3571429 0.1756757  1.0000000 \n",
       "3 360               0.3024476   0.2142857 0.1756757  0.9675621 \n",
       "4 555               0.3251748   0.5918367 0.2162162  1.0000000 \n",
       "5 600               0.3111888   0.7857143 0.2297297  1.0000000 \n",
       "6 405               0.2972028   0.8265306 0.1081081  0.8413583 \n",
       "  DEW_POINT_TEMPERATURE SOLAR_RADIATION RAINFALL SNOWFALL 0 ... 6 7 8 9 AUTUMN\n",
       "1 0.2058824             0.00000000      0        0        0 ... 0 0 0 0 0     \n",
       "2 0.1920415             0.00000000      0        0        0 ... 1 0 0 0 0     \n",
       "3 0.1799308             0.26704545      0        0        0 ... 0 0 0 0 0     \n",
       "4 0.4169550             0.02272727      0        0        0 ... 0 0 0 0 0     \n",
       "5 0.4688581             0.00000000      0        0        0 ... 0 0 0 0 0     \n",
       "6 0.4671280             0.00000000      0        0        0 ... 0 0 0 0 0     \n",
       "  SPRING SUMMER WINTER HOLIDAY NO_HOLIDAY\n",
       "1 0      0      1      0       1         \n",
       "2 0      0      1      0       1         \n",
       "3 0      0      1      0       1         \n",
       "4 0      0      1      0       1         \n",
       "5 0      0      1      0       1         \n",
       "6 0      0      1      0       1         "
      ]
     },
     "metadata": {},
     "output_type": "display_data"
    }
   ],
   "source": [
    "# Use the `initial_split()`, `training()`, and `testing()` functions to split the dataset\n",
    "# With seed 1234\n",
    "set.seed(1234)\n",
    "\n",
    "# prop = 3/4\n",
    "# train_data \n",
    "# test_data\n",
    " \n",
    "data_split <- initial_split(bike_sharing_df, prop = .75)\n",
    " \n",
    "train_data <- training(data_split)\n",
    "test_data  <- testing(data_split)\n",
    "\n",
    "head(train_data)\n",
    "\n",
    "head(test_data)\n"
   ]
  },
  {
   "cell_type": "markdown",
   "metadata": {},
   "source": [
    "# TASK: Build a linear regression model using weather variables only\n"
   ]
  },
  {
   "cell_type": "markdown",
   "metadata": {},
   "source": [
    "As you could imagine, weather conditions may affect people's bike renting decisions. For example, on a cold and rainy day, you may choose alternate transportation such as a bus or taxi.  While on a nice sunny day, you may want to rent a bike for a short-distance travel.\n"
   ]
  },
  {
   "cell_type": "markdown",
   "metadata": {},
   "source": [
    "Thus, can we predict a city's bike-sharing demand based on its local weather information? Let's try to build a regression model to do that.\n"
   ]
  },
  {
   "cell_type": "markdown",
   "metadata": {},
   "source": [
    "*TODO:* Build a linear regression model called `lm_model_weather` using the following variables:\n",
    "\n",
    "*   `TEMPERATURE` - Temperature in Celsius\n",
    "*   `HUMIDITY` - Unit is `%`\n",
    "*   `WIND_SPEED` - Unit is `m/s`\n",
    "*   `VISIBILITY` - Multiplied by 10m\n",
    "*   `DEW_POINT_TEMPERATURE` - The temperature to which the air would have to cool down in order to reach saturation, unit is Celsius\n",
    "*   `SOLAR_RADIATION` - MJ/m2\n",
    "*   `RAINFALL` - mm\n",
    "*   `SNOWFALL` - cm\n"
   ]
  },
  {
   "cell_type": "markdown",
   "metadata": {},
   "source": [
    "Define a linear regression model specification.\n"
   ]
  },
  {
   "cell_type": "code",
   "execution_count": 8,
   "metadata": {},
   "outputs": [],
   "source": [
    "# Use `linear_reg()` with engine `lm` and mode `regression`\n",
    "lm_spec <- linear_reg() %>% \n",
    "set_engine(\"lm\") %>%\n",
    "set_mode(\"regression\")\n",
    "\n",
    "#lm_model_weather <- linear_reg(mode = \"regression\", engine = \"lm\", penalty = NULL, mixture = NULL)\n",
    "\n"
   ]
  },
  {
   "cell_type": "markdown",
   "metadata": {},
   "source": [
    "Fit a model with the response variable `RENTED_BIKE_COUNT` and predictor variables `TEMPERATURE + HUMIDITY + WIND_SPEED + VISIBILITY + DEW_POINT_TEMPERATURE + SOLAR_RADIATION + RAINFALL + SNOWFALL`\n"
   ]
  },
  {
   "cell_type": "code",
   "execution_count": 9,
   "metadata": {},
   "outputs": [],
   "source": [
    "# Fit the model called `lm_model_weather`\n",
    "# RENTED_BIKE_COUNT ~ TEMPERATURE + HUMIDITY + WIND_SPEED + VISIBILITY + DEW_POINT_TEMPERATURE + SOLAR_RADIATION + RAINFALL + SNOWFALL,  with the training data\n",
    "\n",
    "\n",
    "lm_model_weather <- lm_spec %>% fit(RENTED_BIKE_COUNT ~ TEMPERATURE + HUMIDITY + WIND_SPEED + VISIBILITY + DEW_POINT_TEMPERATURE + SOLAR_RADIATION + RAINFALL + SNOWFALL, data = train_data)\n",
    "\n",
    "\n",
    "\n"
   ]
  },
  {
   "cell_type": "markdown",
   "metadata": {},
   "source": [
    "Print the fit summary for the `lm_model_weather` model.\n"
   ]
  },
  {
   "cell_type": "code",
   "execution_count": 10,
   "metadata": {},
   "outputs": [
    {
     "name": "stdout",
     "output_type": "stream",
     "text": [
      "parsnip model object\n",
      "\n",
      "Fit time:  6ms \n",
      "\n",
      "Call:\n",
      "stats::lm(formula = RENTED_BIKE_COUNT ~ TEMPERATURE + HUMIDITY + \n",
      "    WIND_SPEED + VISIBILITY + DEW_POINT_TEMPERATURE + SOLAR_RADIATION + \n",
      "    RAINFALL + SNOWFALL, data = data)\n",
      "\n",
      "Coefficients:\n",
      "          (Intercept)            TEMPERATURE               HUMIDITY  \n",
      "               156.71                2399.74                -918.38  \n",
      "           WIND_SPEED             VISIBILITY  DEW_POINT_TEMPERATURE  \n",
      "               404.47                  12.56                -316.92  \n",
      "      SOLAR_RADIATION               RAINFALL               SNOWFALL  \n",
      "              -444.85               -1764.01                 317.78  \n",
      "\n"
     ]
    }
   ],
   "source": [
    "print(lm_model_weather)"
   ]
  },
  {
   "cell_type": "markdown",
   "metadata": {},
   "source": [
    "You should see the model details such as formula, residuals, and coefficients.\n"
   ]
  },
  {
   "cell_type": "markdown",
   "metadata": {},
   "source": [
    "# TASK: Build a linear regression model using all variables\n"
   ]
  },
  {
   "cell_type": "markdown",
   "metadata": {},
   "source": [
    "In addition to weather, there could be other factors that may affect bike rental demand, such as the time of a day or if today is a holiday or not.\n"
   ]
  },
  {
   "cell_type": "markdown",
   "metadata": {},
   "source": [
    "Next, let's build a linear regression model using all variables (weather + date/time) in this task.\n"
   ]
  },
  {
   "cell_type": "markdown",
   "metadata": {},
   "source": [
    "*TODO:* Build a linear regression model called `lm_model_all` using all variables `RENTED_BIKE_COUNT ~ .`\n"
   ]
  },
  {
   "cell_type": "code",
   "execution_count": 18,
   "metadata": {},
   "outputs": [],
   "source": [
    "# Fit the model called `lm_model_all`\n",
    "# `RENTED_BIKE_COUNT ~ .` means use all other variables except for the response variable\n",
    "\n",
    "lm_model_all <- lm_spec %>% fit(RENTED_BIKE_COUNT ~ ., data=train_data)\n",
    "\n",
    "\n",
    "\n",
    "#lm_model_all <- lm(RENTED_BIKE_COUNT ~ ., data=train_data)"
   ]
  },
  {
   "cell_type": "markdown",
   "metadata": {},
   "source": [
    "Print the fit summary for `lm_model_all`.\n"
   ]
  },
  {
   "cell_type": "code",
   "execution_count": 20,
   "metadata": {},
   "outputs": [
    {
     "data": {
      "text/plain": [
       "\n",
       "Call:\n",
       "stats::lm(formula = RENTED_BIKE_COUNT ~ ., data = data)\n",
       "\n",
       "Residuals:\n",
       "     Min       1Q   Median       3Q      Max \n",
       "-1401.45  -218.96    -7.31   199.53  1780.67 \n",
       "\n",
       "Coefficients: (3 not defined because of singularities)\n",
       "                      Estimate Std. Error t value Pr(>|t|)    \n",
       "(Intercept)             212.20      51.04   4.158 3.26e-05 ***\n",
       "TEMPERATURE             782.66     212.13   3.690 0.000227 ***\n",
       "HUMIDITY               -886.73      99.49  -8.913  < 2e-16 ***\n",
       "WIND_SPEED               31.91      40.27   0.792 0.428169    \n",
       "VISIBILITY               21.87      20.26   1.079 0.280439    \n",
       "DEW_POINT_TEMPERATURE   598.39     221.37   2.703 0.006888 ** \n",
       "SOLAR_RADIATION         276.88      41.47   6.677 2.64e-11 ***\n",
       "RAINFALL              -2064.64     143.28 -14.410  < 2e-16 ***\n",
       "SNOWFALL                260.97     103.50   2.522 0.011709 *  \n",
       "`0`                     -29.30      34.26  -0.855 0.392515    \n",
       "`1`                    -116.85      33.72  -3.465 0.000533 ***\n",
       "`10`                   -237.52      32.74  -7.255 4.48e-13 ***\n",
       "`11`                   -247.38      33.85  -7.309 3.02e-13 ***\n",
       "`12`                   -208.34      34.39  -6.059 1.45e-09 ***\n",
       "`13`                   -191.35      35.04  -5.461 4.90e-08 ***\n",
       "`14`                   -192.44      34.44  -5.588 2.39e-08 ***\n",
       "`15`                   -109.73      34.40  -3.190 0.001429 ** \n",
       "`16`                     23.13      34.00   0.680 0.496431    \n",
       "`17`                    305.55      34.15   8.946  < 2e-16 ***\n",
       "`18`                    794.80      34.02  23.364  < 2e-16 ***\n",
       "`19`                    522.99      34.25  15.268  < 2e-16 ***\n",
       "`2`                    -237.21      33.74  -7.030 2.28e-12 ***\n",
       "`20`                    432.00      34.13  12.657  < 2e-16 ***\n",
       "`21`                    446.58      34.09  13.100  < 2e-16 ***\n",
       "`22`                    342.64      33.85  10.123  < 2e-16 ***\n",
       "`23`                    103.81      33.85   3.066 0.002175 ** \n",
       "`3`                    -319.87      34.23  -9.346  < 2e-16 ***\n",
       "`4`                    -386.29      34.00 -11.361  < 2e-16 ***\n",
       "`5`                    -362.72      33.48 -10.834  < 2e-16 ***\n",
       "`6`                    -204.12      33.59  -6.076 1.30e-09 ***\n",
       "`7`                     106.76      33.58   3.179 0.001486 ** \n",
       "`8`                     450.98      32.62  13.823  < 2e-16 ***\n",
       "`9`                         NA         NA      NA       NA    \n",
       "AUTUMN                  359.00      20.29  17.694  < 2e-16 ***\n",
       "SPRING                  191.37      19.36   9.884  < 2e-16 ***\n",
       "SUMMER                  198.14      29.19   6.789 1.24e-11 ***\n",
       "WINTER                      NA         NA      NA       NA    \n",
       "HOLIDAY                -124.42      22.95  -5.422 6.11e-08 ***\n",
       "NO_HOLIDAY                  NA         NA      NA       NA    \n",
       "---\n",
       "Signif. codes:  0 ‘***’ 0.001 ‘**’ 0.01 ‘*’ 0.05 ‘.’ 0.1 ‘ ’ 1\n",
       "\n",
       "Residual standard error: 377.9 on 6312 degrees of freedom\n",
       "Multiple R-squared:  0.6589,\tAdjusted R-squared:  0.657 \n",
       "F-statistic: 348.4 on 35 and 6312 DF,  p-value: < 2.2e-16\n"
      ]
     },
     "metadata": {},
     "output_type": "display_data"
    }
   ],
   "source": [
    "summary(lm_model_all$fit)"
   ]
  },
  {
   "cell_type": "markdown",
   "metadata": {},
   "source": [
    "Now you have built two basic linear regression models with different predictor variables, let's evaluate which model has better performance,\n"
   ]
  },
  {
   "cell_type": "markdown",
   "metadata": {},
   "source": [
    "# TASK: Model evaluation and identification of important variables\n"
   ]
  },
  {
   "cell_type": "markdown",
   "metadata": {},
   "source": [
    "Now that you have built two regression models, `lm_model_weather` and `lm_model_all`, with different predictor variables, you need to compare their performance to see which one is better.\n"
   ]
  },
  {
   "cell_type": "markdown",
   "metadata": {},
   "source": [
    "In this project, you will be asked to use very important metrics that are often used in Statistics to determine the performance of a model:\n",
    "\n",
    "1.  R^2 / R-squared\n",
    "2.  Root Mean Squared Error (RMSE)\n",
    "\n",
    "**R-squared**\n",
    "\n",
    "<p>R squared, also known as the coefficient of determination, is a measure to indicate how close the data is to the fitted regression line. The value of R-squared is the percentage of variation of the response variable (y) that is explained by a linear model.</p>\n",
    "\n",
    "**Root Mean Squared Error (RMSE)**\n",
    "$$\n",
    "RMSE = \\sqrt{MSE}\n",
    "$$\n",
    "\n",
    "As you know, the Mean Squared Error measures the average of the squares of errors, where 'error' is the difference between the actual value ($y$) and the estimated value ($ŷ$).\n",
    "Another metric that is related to MSE is **Root Mean Squared Error (RMSE)** and is simply the square root of MSE.\n"
   ]
  },
  {
   "cell_type": "markdown",
   "metadata": {},
   "source": [
    "We first need to test the `lm_model_weather` and `lm_model_all` models against the test dataset `test_data`, and generate `RENTED_BIKE_COUNT` prediction results.\n"
   ]
  },
  {
   "cell_type": "markdown",
   "metadata": {},
   "source": [
    "*TODO:* Make predictions on the testing dataset using both `lm_model_weather` and `lm_model_all` models\n"
   ]
  },
  {
   "cell_type": "code",
   "execution_count": 21,
   "metadata": {},
   "outputs": [
    {
     "name": "stderr",
     "output_type": "stream",
     "text": [
      "Warning message in predict.lm(object = object$fit, newdata = new_data, type = \"response\"):\n",
      "“prediction from a rank-deficient fit may be misleading”Warning message in predict.lm(object = object$fit, newdata = new_data, type = \"response\"):\n",
      "“prediction from a rank-deficient fit may be misleading”"
     ]
    }
   ],
   "source": [
    "# Use predict() function to generate test results for `lm_model_weather` and `lm_model_all`\n",
    "# and generate two test results dataframe with a truth column:\n",
    "\n",
    "test_results_weather <- lm_model_weather %>% predict(new_data = test_data) %>% mutate(truth = test_data$RENTED_BIKE_COUNT)\n",
    "\n",
    "test_results_all <- lm_model_all %>% predict(new_data = test_data) %>% mutate(truth = test_data$RENTED_BIKE_COUNT)\n",
    "\n"
   ]
  },
  {
   "cell_type": "markdown",
   "metadata": {},
   "source": [
    "NOTE: if you happen to see a warning like : `prediction from a rank-deficient fit may be misleading`, it may be casued by collinearity in the predictor variables. Collinearity means that one predictor variable can be predicted from other predictor variables to some degree. For example, `RAINFALL` could be predicted by `HUMIDITY`.\n",
    "\n",
    "But dont worry, you will address `glmnet` models (Lasso and Elastic-Net Regularized Generalized Linear Models) instead of regular `regression` models to solve this issue and futher improve the model performance.\n"
   ]
  },
  {
   "cell_type": "markdown",
   "metadata": {},
   "source": [
    "Next, let's calculate and print the R-squared and RMSE for the two test results\n"
   ]
  },
  {
   "cell_type": "markdown",
   "metadata": {},
   "source": [
    "*TODO:* Use `rsq()` and `rmse()` functions to calculate R-squared and RMSE metrics for the two test results\n"
   ]
  },
  {
   "cell_type": "code",
   "execution_count": 25,
   "metadata": {},
   "outputs": [
    {
     "data": {
      "text/html": [
       "<table>\n",
       "<thead><tr><th scope=col>.metric</th><th scope=col>.estimator</th><th scope=col>.estimate</th></tr></thead>\n",
       "<tbody>\n",
       "\t<tr><td>rsq      </td><td>standard </td><td>0.6690204</td></tr>\n",
       "</tbody>\n",
       "</table>\n"
      ],
      "text/latex": [
       "\\begin{tabular}{r|lll}\n",
       " .metric & .estimator & .estimate\\\\\n",
       "\\hline\n",
       "\t rsq       & standard  & 0.6690204\\\\\n",
       "\\end{tabular}\n"
      ],
      "text/markdown": [
       "\n",
       "| .metric | .estimator | .estimate |\n",
       "|---|---|---|\n",
       "| rsq       | standard  | 0.6690204 |\n",
       "\n"
      ],
      "text/plain": [
       "  .metric .estimator .estimate\n",
       "1 rsq     standard   0.6690204"
      ]
     },
     "metadata": {},
     "output_type": "display_data"
    }
   ],
   "source": [
    "rsq_weather <- rsq(test_results_weather, truth = truth, estimate = .pred)\n",
    "rsq_weather"
   ]
  },
  {
   "cell_type": "code",
   "execution_count": 26,
   "metadata": {},
   "outputs": [
    {
     "data": {
      "text/html": [
       "<table>\n",
       "<thead><tr><th scope=col>.metric</th><th scope=col>.estimator</th><th scope=col>.estimate</th></tr></thead>\n",
       "<tbody>\n",
       "\t<tr><td>rsq      </td><td>standard </td><td>0.6690204</td></tr>\n",
       "</tbody>\n",
       "</table>\n"
      ],
      "text/latex": [
       "\\begin{tabular}{r|lll}\n",
       " .metric & .estimator & .estimate\\\\\n",
       "\\hline\n",
       "\t rsq       & standard  & 0.6690204\\\\\n",
       "\\end{tabular}\n"
      ],
      "text/markdown": [
       "\n",
       "| .metric | .estimator | .estimate |\n",
       "|---|---|---|\n",
       "| rsq       | standard  | 0.6690204 |\n",
       "\n"
      ],
      "text/plain": [
       "  .metric .estimator .estimate\n",
       "1 rsq     standard   0.6690204"
      ]
     },
     "metadata": {},
     "output_type": "display_data"
    }
   ],
   "source": [
    "rsq_all <- rsq(test_results_all, truth = truth, estimate = .pred)\n",
    "rsq_all"
   ]
  },
  {
   "cell_type": "code",
   "execution_count": 28,
   "metadata": {},
   "outputs": [
    {
     "data": {
      "text/html": [
       "<table>\n",
       "<thead><tr><th scope=col>.metric</th><th scope=col>.estimator</th><th scope=col>.estimate</th></tr></thead>\n",
       "<tbody>\n",
       "\t<tr><td>rmse    </td><td>standard</td><td>364.4235</td></tr>\n",
       "</tbody>\n",
       "</table>\n"
      ],
      "text/latex": [
       "\\begin{tabular}{r|lll}\n",
       " .metric & .estimator & .estimate\\\\\n",
       "\\hline\n",
       "\t rmse     & standard & 364.4235\\\\\n",
       "\\end{tabular}\n"
      ],
      "text/markdown": [
       "\n",
       "| .metric | .estimator | .estimate |\n",
       "|---|---|---|\n",
       "| rmse     | standard | 364.4235 |\n",
       "\n"
      ],
      "text/plain": [
       "  .metric .estimator .estimate\n",
       "1 rmse    standard   364.4235 "
      ]
     },
     "metadata": {},
     "output_type": "display_data"
    }
   ],
   "source": [
    "rmse_weather <- rmse(test_results_weather,truth = truth, estimate = .pred)\n",
    "rmse_weather"
   ]
  },
  {
   "cell_type": "code",
   "execution_count": 30,
   "metadata": {},
   "outputs": [
    {
     "data": {
      "text/html": [
       "<table>\n",
       "<thead><tr><th scope=col>.metric</th><th scope=col>.estimator</th><th scope=col>.estimate</th></tr></thead>\n",
       "<tbody>\n",
       "\t<tr><td>rmse    </td><td>standard</td><td>364.4235</td></tr>\n",
       "</tbody>\n",
       "</table>\n"
      ],
      "text/latex": [
       "\\begin{tabular}{r|lll}\n",
       " .metric & .estimator & .estimate\\\\\n",
       "\\hline\n",
       "\t rmse     & standard & 364.4235\\\\\n",
       "\\end{tabular}\n"
      ],
      "text/markdown": [
       "\n",
       "| .metric | .estimator | .estimate |\n",
       "|---|---|---|\n",
       "| rmse     | standard | 364.4235 |\n",
       "\n"
      ],
      "text/plain": [
       "  .metric .estimator .estimate\n",
       "1 rmse    standard   364.4235 "
      ]
     },
     "metadata": {},
     "output_type": "display_data"
    }
   ],
   "source": [
    "rmse_all <- rmse(test_results_all, truth = truth, estimate = .pred)\n",
    "rmse_all"
   ]
  },
  {
   "cell_type": "markdown",
   "metadata": {},
   "source": [
    "From these tables, you should find that the test results from `lm_model_all` are much better. It means that using both weather and datetime variables in the model generates better prediction results.\n"
   ]
  },
  {
   "cell_type": "markdown",
   "metadata": {},
   "source": [
    "Since `lm_model_all` has many predictor variables, let's check which predictor variables have larger coefficients. Variables with larger coefficients in the model means they attribute more in the prediction of `RENTED_BIKE_COUNT`. In addition, since all predictor variables are normalized to the same scale, 0 to 1, we thus can compare their coefficients directly.\n"
   ]
  },
  {
   "cell_type": "markdown",
   "metadata": {},
   "source": [
    "You could try building another regression model using the non-normalized `seoul_bike_sharing_converted.csv` dataset, and you would find that the coefficients are much different.\n"
   ]
  },
  {
   "cell_type": "markdown",
   "metadata": {},
   "source": [
    "First let's print all coefficients:\n"
   ]
  },
  {
   "cell_type": "code",
   "execution_count": 31,
   "metadata": {},
   "outputs": [
    {
     "data": {
      "text/html": [
       "<dl class=dl-horizontal>\n",
       "\t<dt>(Intercept)</dt>\n",
       "\t\t<dd>212.199462743954</dd>\n",
       "\t<dt>TEMPERATURE</dt>\n",
       "\t\t<dd>782.657870088692</dd>\n",
       "\t<dt>HUMIDITY</dt>\n",
       "\t\t<dd>-886.73027784441</dd>\n",
       "\t<dt>WIND_SPEED</dt>\n",
       "\t\t<dd>31.9129927279246</dd>\n",
       "\t<dt>VISIBILITY</dt>\n",
       "\t\t<dd>21.8716449661126</dd>\n",
       "\t<dt>DEW_POINT_TEMPERATURE</dt>\n",
       "\t\t<dd>598.387261041619</dd>\n",
       "\t<dt>SOLAR_RADIATION</dt>\n",
       "\t\t<dd>276.881652368234</dd>\n",
       "\t<dt>RAINFALL</dt>\n",
       "\t\t<dd>-2064.63754308304</dd>\n",
       "\t<dt>SNOWFALL</dt>\n",
       "\t\t<dd>260.973302878596</dd>\n",
       "\t<dt>`0`</dt>\n",
       "\t\t<dd>-29.2983361016137</dd>\n",
       "\t<dt>`1`</dt>\n",
       "\t\t<dd>-116.846747038285</dd>\n",
       "\t<dt>`10`</dt>\n",
       "\t\t<dd>-237.51820120511</dd>\n",
       "\t<dt>`11`</dt>\n",
       "\t\t<dd>-247.38341321939</dd>\n",
       "\t<dt>`12`</dt>\n",
       "\t\t<dd>-208.341330868407</dd>\n",
       "\t<dt>`13`</dt>\n",
       "\t\t<dd>-191.354228014138</dd>\n",
       "\t<dt>`14`</dt>\n",
       "\t\t<dd>-192.441682312028</dd>\n",
       "\t<dt>`15`</dt>\n",
       "\t\t<dd>-109.733640240686</dd>\n",
       "\t<dt>`16`</dt>\n",
       "\t\t<dd>23.128163602844</dd>\n",
       "\t<dt>`17`</dt>\n",
       "\t\t<dd>305.547618249471</dd>\n",
       "\t<dt>`18`</dt>\n",
       "\t\t<dd>794.803151569959</dd>\n",
       "\t<dt>`19`</dt>\n",
       "\t\t<dd>522.988214834461</dd>\n",
       "\t<dt>`2`</dt>\n",
       "\t\t<dd>-237.211663999792</dd>\n",
       "\t<dt>`20`</dt>\n",
       "\t\t<dd>431.99523757542</dd>\n",
       "\t<dt>`21`</dt>\n",
       "\t\t<dd>446.580533576852</dd>\n",
       "\t<dt>`22`</dt>\n",
       "\t\t<dd>342.64091922177</dd>\n",
       "\t<dt>`23`</dt>\n",
       "\t\t<dd>103.808410131075</dd>\n",
       "\t<dt>`3`</dt>\n",
       "\t\t<dd>-319.871517124491</dd>\n",
       "\t<dt>`4`</dt>\n",
       "\t\t<dd>-386.292807947984</dd>\n",
       "\t<dt>`5`</dt>\n",
       "\t\t<dd>-362.720001875814</dd>\n",
       "\t<dt>`6`</dt>\n",
       "\t\t<dd>-204.118732579813</dd>\n",
       "\t<dt>`7`</dt>\n",
       "\t\t<dd>106.757133838754</dd>\n",
       "\t<dt>`8`</dt>\n",
       "\t\t<dd>450.977534093274</dd>\n",
       "\t<dt>`9`</dt>\n",
       "\t\t<dd>&lt;NA&gt;</dd>\n",
       "\t<dt>AUTUMN</dt>\n",
       "\t\t<dd>358.999443905867</dd>\n",
       "\t<dt>SPRING</dt>\n",
       "\t\t<dd>191.365267451116</dd>\n",
       "\t<dt>SUMMER</dt>\n",
       "\t\t<dd>198.142010192369</dd>\n",
       "\t<dt>WINTER</dt>\n",
       "\t\t<dd>&lt;NA&gt;</dd>\n",
       "\t<dt>HOLIDAY</dt>\n",
       "\t\t<dd>-124.423741444013</dd>\n",
       "\t<dt>NO_HOLIDAY</dt>\n",
       "\t\t<dd>&lt;NA&gt;</dd>\n",
       "</dl>\n"
      ],
      "text/latex": [
       "\\begin{description*}\n",
       "\\item[(Intercept)] 212.199462743954\n",
       "\\item[TEMPERATURE] 782.657870088692\n",
       "\\item[HUMIDITY] -886.73027784441\n",
       "\\item[WIND\\textbackslash{}\\_SPEED] 31.9129927279246\n",
       "\\item[VISIBILITY] 21.8716449661126\n",
       "\\item[DEW\\textbackslash{}\\_POINT\\textbackslash{}\\_TEMPERATURE] 598.387261041619\n",
       "\\item[SOLAR\\textbackslash{}\\_RADIATION] 276.881652368234\n",
       "\\item[RAINFALL] -2064.63754308304\n",
       "\\item[SNOWFALL] 260.973302878596\n",
       "\\item[`0`] -29.2983361016137\n",
       "\\item[`1`] -116.846747038285\n",
       "\\item[`10`] -237.51820120511\n",
       "\\item[`11`] -247.38341321939\n",
       "\\item[`12`] -208.341330868407\n",
       "\\item[`13`] -191.354228014138\n",
       "\\item[`14`] -192.441682312028\n",
       "\\item[`15`] -109.733640240686\n",
       "\\item[`16`] 23.128163602844\n",
       "\\item[`17`] 305.547618249471\n",
       "\\item[`18`] 794.803151569959\n",
       "\\item[`19`] 522.988214834461\n",
       "\\item[`2`] -237.211663999792\n",
       "\\item[`20`] 431.99523757542\n",
       "\\item[`21`] 446.580533576852\n",
       "\\item[`22`] 342.64091922177\n",
       "\\item[`23`] 103.808410131075\n",
       "\\item[`3`] -319.871517124491\n",
       "\\item[`4`] -386.292807947984\n",
       "\\item[`5`] -362.720001875814\n",
       "\\item[`6`] -204.118732579813\n",
       "\\item[`7`] 106.757133838754\n",
       "\\item[`8`] 450.977534093274\n",
       "\\item[`9`] <NA>\n",
       "\\item[AUTUMN] 358.999443905867\n",
       "\\item[SPRING] 191.365267451116\n",
       "\\item[SUMMER] 198.142010192369\n",
       "\\item[WINTER] <NA>\n",
       "\\item[HOLIDAY] -124.423741444013\n",
       "\\item[NO\\textbackslash{}\\_HOLIDAY] <NA>\n",
       "\\end{description*}\n"
      ],
      "text/markdown": [
       "(Intercept)\n",
       ":   212.199462743954TEMPERATURE\n",
       ":   782.657870088692HUMIDITY\n",
       ":   -886.73027784441WIND_SPEED\n",
       ":   31.9129927279246VISIBILITY\n",
       ":   21.8716449661126DEW_POINT_TEMPERATURE\n",
       ":   598.387261041619SOLAR_RADIATION\n",
       ":   276.881652368234RAINFALL\n",
       ":   -2064.63754308304SNOWFALL\n",
       ":   260.973302878596`0`\n",
       ":   -29.2983361016137`1`\n",
       ":   -116.846747038285`10`\n",
       ":   -237.51820120511`11`\n",
       ":   -247.38341321939`12`\n",
       ":   -208.341330868407`13`\n",
       ":   -191.354228014138`14`\n",
       ":   -192.441682312028`15`\n",
       ":   -109.733640240686`16`\n",
       ":   23.128163602844`17`\n",
       ":   305.547618249471`18`\n",
       ":   794.803151569959`19`\n",
       ":   522.988214834461`2`\n",
       ":   -237.211663999792`20`\n",
       ":   431.99523757542`21`\n",
       ":   446.580533576852`22`\n",
       ":   342.64091922177`23`\n",
       ":   103.808410131075`3`\n",
       ":   -319.871517124491`4`\n",
       ":   -386.292807947984`5`\n",
       ":   -362.720001875814`6`\n",
       ":   -204.118732579813`7`\n",
       ":   106.757133838754`8`\n",
       ":   450.977534093274`9`\n",
       ":   &lt;NA&gt;AUTUMN\n",
       ":   358.999443905867SPRING\n",
       ":   191.365267451116SUMMER\n",
       ":   198.142010192369WINTER\n",
       ":   &lt;NA&gt;HOLIDAY\n",
       ":   -124.423741444013NO_HOLIDAY\n",
       ":   &lt;NA&gt;\n",
       "\n"
      ],
      "text/plain": [
       "          (Intercept)           TEMPERATURE              HUMIDITY \n",
       "            212.19946             782.65787            -886.73028 \n",
       "           WIND_SPEED            VISIBILITY DEW_POINT_TEMPERATURE \n",
       "             31.91299              21.87164             598.38726 \n",
       "      SOLAR_RADIATION              RAINFALL              SNOWFALL \n",
       "            276.88165           -2064.63754             260.97330 \n",
       "                  `0`                   `1`                  `10` \n",
       "            -29.29834            -116.84675            -237.51820 \n",
       "                 `11`                  `12`                  `13` \n",
       "           -247.38341            -208.34133            -191.35423 \n",
       "                 `14`                  `15`                  `16` \n",
       "           -192.44168            -109.73364              23.12816 \n",
       "                 `17`                  `18`                  `19` \n",
       "            305.54762             794.80315             522.98821 \n",
       "                  `2`                  `20`                  `21` \n",
       "           -237.21166             431.99524             446.58053 \n",
       "                 `22`                  `23`                   `3` \n",
       "            342.64092             103.80841            -319.87152 \n",
       "                  `4`                   `5`                   `6` \n",
       "           -386.29281            -362.72000            -204.11873 \n",
       "                  `7`                   `8`                   `9` \n",
       "            106.75713             450.97753                    NA \n",
       "               AUTUMN                SPRING                SUMMER \n",
       "            358.99944             191.36527             198.14201 \n",
       "               WINTER               HOLIDAY            NO_HOLIDAY \n",
       "                   NA            -124.42374                    NA "
      ]
     },
     "metadata": {},
     "output_type": "display_data"
    }
   ],
   "source": [
    "lm_model_all$fit$coefficients"
   ]
  },
  {
   "cell_type": "markdown",
   "metadata": {},
   "source": [
    "hmm, it's not very clear to compare the coefficients from a long and unsorted list. Next, you need to sort and visualize them using a bar chart\n"
   ]
  },
  {
   "cell_type": "markdown",
   "metadata": {},
   "source": [
    "*TODO:* Sort the coefficient list in descending order and visualize the result using `ggplot` and `geom_bar`\n"
   ]
  },
  {
   "cell_type": "code",
   "execution_count": 41,
   "metadata": {},
   "outputs": [
    {
     "data": {
      "text/html": [
       "<dl class=dl-horizontal>\n",
       "\t<dt>RAINFALL</dt>\n",
       "\t\t<dd>2064.63754308304</dd>\n",
       "\t<dt>HUMIDITY</dt>\n",
       "\t\t<dd>886.73027784441</dd>\n",
       "\t<dt>`18`</dt>\n",
       "\t\t<dd>794.803151569959</dd>\n",
       "\t<dt>TEMPERATURE</dt>\n",
       "\t\t<dd>782.657870088692</dd>\n",
       "\t<dt>DEW_POINT_TEMPERATURE</dt>\n",
       "\t\t<dd>598.387261041619</dd>\n",
       "\t<dt>`19`</dt>\n",
       "\t\t<dd>522.988214834461</dd>\n",
       "\t<dt>`8`</dt>\n",
       "\t\t<dd>450.977534093274</dd>\n",
       "\t<dt>`21`</dt>\n",
       "\t\t<dd>446.580533576852</dd>\n",
       "\t<dt>`20`</dt>\n",
       "\t\t<dd>431.99523757542</dd>\n",
       "\t<dt>`4`</dt>\n",
       "\t\t<dd>386.292807947984</dd>\n",
       "\t<dt>`5`</dt>\n",
       "\t\t<dd>362.720001875814</dd>\n",
       "\t<dt>AUTUMN</dt>\n",
       "\t\t<dd>358.999443905867</dd>\n",
       "\t<dt>`22`</dt>\n",
       "\t\t<dd>342.64091922177</dd>\n",
       "\t<dt>`3`</dt>\n",
       "\t\t<dd>319.871517124491</dd>\n",
       "\t<dt>`17`</dt>\n",
       "\t\t<dd>305.547618249471</dd>\n",
       "\t<dt>SOLAR_RADIATION</dt>\n",
       "\t\t<dd>276.881652368234</dd>\n",
       "\t<dt>SNOWFALL</dt>\n",
       "\t\t<dd>260.973302878596</dd>\n",
       "\t<dt>`11`</dt>\n",
       "\t\t<dd>247.38341321939</dd>\n",
       "\t<dt>`10`</dt>\n",
       "\t\t<dd>237.51820120511</dd>\n",
       "\t<dt>`2`</dt>\n",
       "\t\t<dd>237.211663999792</dd>\n",
       "\t<dt>(Intercept)</dt>\n",
       "\t\t<dd>212.199462743954</dd>\n",
       "\t<dt>`12`</dt>\n",
       "\t\t<dd>208.341330868407</dd>\n",
       "\t<dt>`6`</dt>\n",
       "\t\t<dd>204.118732579813</dd>\n",
       "\t<dt>SUMMER</dt>\n",
       "\t\t<dd>198.142010192369</dd>\n",
       "\t<dt>`14`</dt>\n",
       "\t\t<dd>192.441682312028</dd>\n",
       "\t<dt>SPRING</dt>\n",
       "\t\t<dd>191.365267451116</dd>\n",
       "\t<dt>`13`</dt>\n",
       "\t\t<dd>191.354228014138</dd>\n",
       "\t<dt>HOLIDAY</dt>\n",
       "\t\t<dd>124.423741444013</dd>\n",
       "\t<dt>`1`</dt>\n",
       "\t\t<dd>116.846747038285</dd>\n",
       "\t<dt>`15`</dt>\n",
       "\t\t<dd>109.733640240686</dd>\n",
       "\t<dt>`7`</dt>\n",
       "\t\t<dd>106.757133838754</dd>\n",
       "\t<dt>`23`</dt>\n",
       "\t\t<dd>103.808410131075</dd>\n",
       "\t<dt>WIND_SPEED</dt>\n",
       "\t\t<dd>31.9129927279246</dd>\n",
       "\t<dt>`0`</dt>\n",
       "\t\t<dd>29.2983361016137</dd>\n",
       "\t<dt>`16`</dt>\n",
       "\t\t<dd>23.128163602844</dd>\n",
       "\t<dt>VISIBILITY</dt>\n",
       "\t\t<dd>21.8716449661126</dd>\n",
       "</dl>\n"
      ],
      "text/latex": [
       "\\begin{description*}\n",
       "\\item[RAINFALL] 2064.63754308304\n",
       "\\item[HUMIDITY] 886.73027784441\n",
       "\\item[`18`] 794.803151569959\n",
       "\\item[TEMPERATURE] 782.657870088692\n",
       "\\item[DEW\\textbackslash{}\\_POINT\\textbackslash{}\\_TEMPERATURE] 598.387261041619\n",
       "\\item[`19`] 522.988214834461\n",
       "\\item[`8`] 450.977534093274\n",
       "\\item[`21`] 446.580533576852\n",
       "\\item[`20`] 431.99523757542\n",
       "\\item[`4`] 386.292807947984\n",
       "\\item[`5`] 362.720001875814\n",
       "\\item[AUTUMN] 358.999443905867\n",
       "\\item[`22`] 342.64091922177\n",
       "\\item[`3`] 319.871517124491\n",
       "\\item[`17`] 305.547618249471\n",
       "\\item[SOLAR\\textbackslash{}\\_RADIATION] 276.881652368234\n",
       "\\item[SNOWFALL] 260.973302878596\n",
       "\\item[`11`] 247.38341321939\n",
       "\\item[`10`] 237.51820120511\n",
       "\\item[`2`] 237.211663999792\n",
       "\\item[(Intercept)] 212.199462743954\n",
       "\\item[`12`] 208.341330868407\n",
       "\\item[`6`] 204.118732579813\n",
       "\\item[SUMMER] 198.142010192369\n",
       "\\item[`14`] 192.441682312028\n",
       "\\item[SPRING] 191.365267451116\n",
       "\\item[`13`] 191.354228014138\n",
       "\\item[HOLIDAY] 124.423741444013\n",
       "\\item[`1`] 116.846747038285\n",
       "\\item[`15`] 109.733640240686\n",
       "\\item[`7`] 106.757133838754\n",
       "\\item[`23`] 103.808410131075\n",
       "\\item[WIND\\textbackslash{}\\_SPEED] 31.9129927279246\n",
       "\\item[`0`] 29.2983361016137\n",
       "\\item[`16`] 23.128163602844\n",
       "\\item[VISIBILITY] 21.8716449661126\n",
       "\\end{description*}\n"
      ],
      "text/markdown": [
       "RAINFALL\n",
       ":   2064.63754308304HUMIDITY\n",
       ":   886.73027784441`18`\n",
       ":   794.803151569959TEMPERATURE\n",
       ":   782.657870088692DEW_POINT_TEMPERATURE\n",
       ":   598.387261041619`19`\n",
       ":   522.988214834461`8`\n",
       ":   450.977534093274`21`\n",
       ":   446.580533576852`20`\n",
       ":   431.99523757542`4`\n",
       ":   386.292807947984`5`\n",
       ":   362.720001875814AUTUMN\n",
       ":   358.999443905867`22`\n",
       ":   342.64091922177`3`\n",
       ":   319.871517124491`17`\n",
       ":   305.547618249471SOLAR_RADIATION\n",
       ":   276.881652368234SNOWFALL\n",
       ":   260.973302878596`11`\n",
       ":   247.38341321939`10`\n",
       ":   237.51820120511`2`\n",
       ":   237.211663999792(Intercept)\n",
       ":   212.199462743954`12`\n",
       ":   208.341330868407`6`\n",
       ":   204.118732579813SUMMER\n",
       ":   198.142010192369`14`\n",
       ":   192.441682312028SPRING\n",
       ":   191.365267451116`13`\n",
       ":   191.354228014138HOLIDAY\n",
       ":   124.423741444013`1`\n",
       ":   116.846747038285`15`\n",
       ":   109.733640240686`7`\n",
       ":   106.757133838754`23`\n",
       ":   103.808410131075WIND_SPEED\n",
       ":   31.9129927279246`0`\n",
       ":   29.2983361016137`16`\n",
       ":   23.128163602844VISIBILITY\n",
       ":   21.8716449661126\n",
       "\n"
      ],
      "text/plain": [
       "             RAINFALL              HUMIDITY                  `18` \n",
       "           2064.63754             886.73028             794.80315 \n",
       "          TEMPERATURE DEW_POINT_TEMPERATURE                  `19` \n",
       "            782.65787             598.38726             522.98821 \n",
       "                  `8`                  `21`                  `20` \n",
       "            450.97753             446.58053             431.99524 \n",
       "                  `4`                   `5`                AUTUMN \n",
       "            386.29281             362.72000             358.99944 \n",
       "                 `22`                   `3`                  `17` \n",
       "            342.64092             319.87152             305.54762 \n",
       "      SOLAR_RADIATION              SNOWFALL                  `11` \n",
       "            276.88165             260.97330             247.38341 \n",
       "                 `10`                   `2`           (Intercept) \n",
       "            237.51820             237.21166             212.19946 \n",
       "                 `12`                   `6`                SUMMER \n",
       "            208.34133             204.11873             198.14201 \n",
       "                 `14`                SPRING                  `13` \n",
       "            192.44168             191.36527             191.35423 \n",
       "              HOLIDAY                   `1`                  `15` \n",
       "            124.42374             116.84675             109.73364 \n",
       "                  `7`                  `23`            WIND_SPEED \n",
       "            106.75713             103.80841              31.91299 \n",
       "                  `0`                  `16`            VISIBILITY \n",
       "             29.29834              23.12816              21.87164 "
      ]
     },
     "metadata": {},
     "output_type": "display_data"
    }
   ],
   "source": [
    "sorted <- sort(abs(lm_model_all$fit$coefficients), decreasing = TRUE)\n",
    "sorted"
   ]
  },
  {
   "cell_type": "code",
   "execution_count": 111,
   "metadata": {},
   "outputs": [
    {
     "data": {
      "text/html": [
       "<table>\n",
       "<thead><tr><th></th><th scope=col>sorted</th><th scope=col>coefficient</th><th scope=col>feature</th></tr></thead>\n",
       "<tbody>\n",
       "\t<tr><th scope=row>RAINFALL</th><td>2064.63754           </td><td>2064.63754           </td><td>RAINFALL             </td></tr>\n",
       "\t<tr><th scope=row>HUMIDITY</th><td> 886.73028           </td><td> 886.73028           </td><td>HUMIDITY             </td></tr>\n",
       "\t<tr><th scope=row>`18`</th><td> 794.80315           </td><td> 794.80315           </td><td>`18`                 </td></tr>\n",
       "\t<tr><th scope=row>TEMPERATURE</th><td> 782.65787           </td><td> 782.65787           </td><td>TEMPERATURE          </td></tr>\n",
       "\t<tr><th scope=row>DEW_POINT_TEMPERATURE</th><td> 598.38726           </td><td> 598.38726           </td><td>DEW_POINT_TEMPERATURE</td></tr>\n",
       "\t<tr><th scope=row>`19`</th><td> 522.98821           </td><td> 522.98821           </td><td>`19`                 </td></tr>\n",
       "\t<tr><th scope=row>`8`</th><td> 450.97753           </td><td> 450.97753           </td><td>`8`                  </td></tr>\n",
       "\t<tr><th scope=row>`21`</th><td> 446.58053           </td><td> 446.58053           </td><td>`21`                 </td></tr>\n",
       "\t<tr><th scope=row>`20`</th><td> 431.99524           </td><td> 431.99524           </td><td>`20`                 </td></tr>\n",
       "\t<tr><th scope=row>`4`</th><td> 386.29281           </td><td> 386.29281           </td><td>`4`                  </td></tr>\n",
       "\t<tr><th scope=row>`5`</th><td> 362.72000           </td><td> 362.72000           </td><td>`5`                  </td></tr>\n",
       "\t<tr><th scope=row>AUTUMN</th><td> 358.99944           </td><td> 358.99944           </td><td>AUTUMN               </td></tr>\n",
       "\t<tr><th scope=row>`22`</th><td> 342.64092           </td><td> 342.64092           </td><td>`22`                 </td></tr>\n",
       "\t<tr><th scope=row>`3`</th><td> 319.87152           </td><td> 319.87152           </td><td>`3`                  </td></tr>\n",
       "\t<tr><th scope=row>`17`</th><td> 305.54762           </td><td> 305.54762           </td><td>`17`                 </td></tr>\n",
       "\t<tr><th scope=row>SOLAR_RADIATION</th><td> 276.88165           </td><td> 276.88165           </td><td>SOLAR_RADIATION      </td></tr>\n",
       "\t<tr><th scope=row>SNOWFALL</th><td> 260.97330           </td><td> 260.97330           </td><td>SNOWFALL             </td></tr>\n",
       "\t<tr><th scope=row>`11`</th><td> 247.38341           </td><td> 247.38341           </td><td>`11`                 </td></tr>\n",
       "\t<tr><th scope=row>`10`</th><td> 237.51820           </td><td> 237.51820           </td><td>`10`                 </td></tr>\n",
       "\t<tr><th scope=row>`2`</th><td> 237.21166           </td><td> 237.21166           </td><td>`2`                  </td></tr>\n",
       "\t<tr><th scope=row>(Intercept)</th><td> 212.19946           </td><td> 212.19946           </td><td>(Intercept)          </td></tr>\n",
       "\t<tr><th scope=row>`12`</th><td> 208.34133           </td><td> 208.34133           </td><td>`12`                 </td></tr>\n",
       "\t<tr><th scope=row>`6`</th><td> 204.11873           </td><td> 204.11873           </td><td>`6`                  </td></tr>\n",
       "\t<tr><th scope=row>SUMMER</th><td> 198.14201           </td><td> 198.14201           </td><td>SUMMER               </td></tr>\n",
       "\t<tr><th scope=row>`14`</th><td> 192.44168           </td><td> 192.44168           </td><td>`14`                 </td></tr>\n",
       "\t<tr><th scope=row>SPRING</th><td> 191.36527           </td><td> 191.36527           </td><td>SPRING               </td></tr>\n",
       "\t<tr><th scope=row>`13`</th><td> 191.35423           </td><td> 191.35423           </td><td>`13`                 </td></tr>\n",
       "\t<tr><th scope=row>HOLIDAY</th><td> 124.42374           </td><td> 124.42374           </td><td>HOLIDAY              </td></tr>\n",
       "\t<tr><th scope=row>`1`</th><td> 116.84675           </td><td> 116.84675           </td><td>`1`                  </td></tr>\n",
       "\t<tr><th scope=row>`15`</th><td> 109.73364           </td><td> 109.73364           </td><td>`15`                 </td></tr>\n",
       "\t<tr><th scope=row>`7`</th><td> 106.75713           </td><td> 106.75713           </td><td>`7`                  </td></tr>\n",
       "\t<tr><th scope=row>`23`</th><td> 103.80841           </td><td> 103.80841           </td><td>`23`                 </td></tr>\n",
       "\t<tr><th scope=row>WIND_SPEED</th><td>  31.91299           </td><td>  31.91299           </td><td>WIND_SPEED           </td></tr>\n",
       "\t<tr><th scope=row>`0`</th><td>  29.29834           </td><td>  29.29834           </td><td>`0`                  </td></tr>\n",
       "\t<tr><th scope=row>`16`</th><td>  23.12816           </td><td>  23.12816           </td><td>`16`                 </td></tr>\n",
       "\t<tr><th scope=row>VISIBILITY</th><td>  21.87164           </td><td>  21.87164           </td><td>VISIBILITY           </td></tr>\n",
       "</tbody>\n",
       "</table>\n"
      ],
      "text/latex": [
       "\\begin{tabular}{r|lll}\n",
       "  & sorted & coefficient & feature\\\\\n",
       "\\hline\n",
       "\tRAINFALL & 2064.63754            & 2064.63754            & RAINFALL             \\\\\n",
       "\tHUMIDITY &  886.73028            &  886.73028            & HUMIDITY             \\\\\n",
       "\t`18` &  794.80315            &  794.80315            & `18`                 \\\\\n",
       "\tTEMPERATURE &  782.65787            &  782.65787            & TEMPERATURE          \\\\\n",
       "\tDEW\\_POINT\\_TEMPERATURE &  598.38726                &  598.38726                & DEW\\_POINT\\_TEMPERATURE\\\\\n",
       "\t`19` &  522.98821            &  522.98821            & `19`                 \\\\\n",
       "\t`8` &  450.97753            &  450.97753            & `8`                  \\\\\n",
       "\t`21` &  446.58053            &  446.58053            & `21`                 \\\\\n",
       "\t`20` &  431.99524            &  431.99524            & `20`                 \\\\\n",
       "\t`4` &  386.29281            &  386.29281            & `4`                  \\\\\n",
       "\t`5` &  362.72000            &  362.72000            & `5`                  \\\\\n",
       "\tAUTUMN &  358.99944            &  358.99944            & AUTUMN               \\\\\n",
       "\t`22` &  342.64092            &  342.64092            & `22`                 \\\\\n",
       "\t`3` &  319.87152            &  319.87152            & `3`                  \\\\\n",
       "\t`17` &  305.54762            &  305.54762            & `17`                 \\\\\n",
       "\tSOLAR\\_RADIATION &  276.88165              &  276.88165              & SOLAR\\_RADIATION      \\\\\n",
       "\tSNOWFALL &  260.97330            &  260.97330            & SNOWFALL             \\\\\n",
       "\t`11` &  247.38341            &  247.38341            & `11`                 \\\\\n",
       "\t`10` &  237.51820            &  237.51820            & `10`                 \\\\\n",
       "\t`2` &  237.21166            &  237.21166            & `2`                  \\\\\n",
       "\t(Intercept) &  212.19946            &  212.19946            & (Intercept)          \\\\\n",
       "\t`12` &  208.34133            &  208.34133            & `12`                 \\\\\n",
       "\t`6` &  204.11873            &  204.11873            & `6`                  \\\\\n",
       "\tSUMMER &  198.14201            &  198.14201            & SUMMER               \\\\\n",
       "\t`14` &  192.44168            &  192.44168            & `14`                 \\\\\n",
       "\tSPRING &  191.36527            &  191.36527            & SPRING               \\\\\n",
       "\t`13` &  191.35423            &  191.35423            & `13`                 \\\\\n",
       "\tHOLIDAY &  124.42374            &  124.42374            & HOLIDAY              \\\\\n",
       "\t`1` &  116.84675            &  116.84675            & `1`                  \\\\\n",
       "\t`15` &  109.73364            &  109.73364            & `15`                 \\\\\n",
       "\t`7` &  106.75713            &  106.75713            & `7`                  \\\\\n",
       "\t`23` &  103.80841            &  103.80841            & `23`                 \\\\\n",
       "\tWIND\\_SPEED &   31.91299              &   31.91299              & WIND\\_SPEED           \\\\\n",
       "\t`0` &   29.29834            &   29.29834            & `0`                  \\\\\n",
       "\t`16` &   23.12816            &   23.12816            & `16`                 \\\\\n",
       "\tVISIBILITY &   21.87164            &   21.87164            & VISIBILITY           \\\\\n",
       "\\end{tabular}\n"
      ],
      "text/markdown": [
       "\n",
       "| <!--/--> | sorted | coefficient | feature |\n",
       "|---|---|---|---|\n",
       "| RAINFALL | 2064.63754            | 2064.63754            | RAINFALL              |\n",
       "| HUMIDITY |  886.73028            |  886.73028            | HUMIDITY              |\n",
       "| `18` |  794.80315            |  794.80315            | `18`                  |\n",
       "| TEMPERATURE |  782.65787            |  782.65787            | TEMPERATURE           |\n",
       "| DEW_POINT_TEMPERATURE |  598.38726            |  598.38726            | DEW_POINT_TEMPERATURE |\n",
       "| `19` |  522.98821            |  522.98821            | `19`                  |\n",
       "| `8` |  450.97753            |  450.97753            | `8`                   |\n",
       "| `21` |  446.58053            |  446.58053            | `21`                  |\n",
       "| `20` |  431.99524            |  431.99524            | `20`                  |\n",
       "| `4` |  386.29281            |  386.29281            | `4`                   |\n",
       "| `5` |  362.72000            |  362.72000            | `5`                   |\n",
       "| AUTUMN |  358.99944            |  358.99944            | AUTUMN                |\n",
       "| `22` |  342.64092            |  342.64092            | `22`                  |\n",
       "| `3` |  319.87152            |  319.87152            | `3`                   |\n",
       "| `17` |  305.54762            |  305.54762            | `17`                  |\n",
       "| SOLAR_RADIATION |  276.88165            |  276.88165            | SOLAR_RADIATION       |\n",
       "| SNOWFALL |  260.97330            |  260.97330            | SNOWFALL              |\n",
       "| `11` |  247.38341            |  247.38341            | `11`                  |\n",
       "| `10` |  237.51820            |  237.51820            | `10`                  |\n",
       "| `2` |  237.21166            |  237.21166            | `2`                   |\n",
       "| (Intercept) |  212.19946            |  212.19946            | (Intercept)           |\n",
       "| `12` |  208.34133            |  208.34133            | `12`                  |\n",
       "| `6` |  204.11873            |  204.11873            | `6`                   |\n",
       "| SUMMER |  198.14201            |  198.14201            | SUMMER                |\n",
       "| `14` |  192.44168            |  192.44168            | `14`                  |\n",
       "| SPRING |  191.36527            |  191.36527            | SPRING                |\n",
       "| `13` |  191.35423            |  191.35423            | `13`                  |\n",
       "| HOLIDAY |  124.42374            |  124.42374            | HOLIDAY               |\n",
       "| `1` |  116.84675            |  116.84675            | `1`                   |\n",
       "| `15` |  109.73364            |  109.73364            | `15`                  |\n",
       "| `7` |  106.75713            |  106.75713            | `7`                   |\n",
       "| `23` |  103.80841            |  103.80841            | `23`                  |\n",
       "| WIND_SPEED |   31.91299            |   31.91299            | WIND_SPEED            |\n",
       "| `0` |   29.29834            |   29.29834            | `0`                   |\n",
       "| `16` |   23.12816            |   23.12816            | `16`                  |\n",
       "| VISIBILITY |   21.87164            |   21.87164            | VISIBILITY            |\n",
       "\n"
      ],
      "text/plain": [
       "                      sorted     coefficient feature              \n",
       "RAINFALL              2064.63754 2064.63754  RAINFALL             \n",
       "HUMIDITY               886.73028  886.73028  HUMIDITY             \n",
       "`18`                   794.80315  794.80315  `18`                 \n",
       "TEMPERATURE            782.65787  782.65787  TEMPERATURE          \n",
       "DEW_POINT_TEMPERATURE  598.38726  598.38726  DEW_POINT_TEMPERATURE\n",
       "`19`                   522.98821  522.98821  `19`                 \n",
       "`8`                    450.97753  450.97753  `8`                  \n",
       "`21`                   446.58053  446.58053  `21`                 \n",
       "`20`                   431.99524  431.99524  `20`                 \n",
       "`4`                    386.29281  386.29281  `4`                  \n",
       "`5`                    362.72000  362.72000  `5`                  \n",
       "AUTUMN                 358.99944  358.99944  AUTUMN               \n",
       "`22`                   342.64092  342.64092  `22`                 \n",
       "`3`                    319.87152  319.87152  `3`                  \n",
       "`17`                   305.54762  305.54762  `17`                 \n",
       "SOLAR_RADIATION        276.88165  276.88165  SOLAR_RADIATION      \n",
       "SNOWFALL               260.97330  260.97330  SNOWFALL             \n",
       "`11`                   247.38341  247.38341  `11`                 \n",
       "`10`                   237.51820  237.51820  `10`                 \n",
       "`2`                    237.21166  237.21166  `2`                  \n",
       "(Intercept)            212.19946  212.19946  (Intercept)          \n",
       "`12`                   208.34133  208.34133  `12`                 \n",
       "`6`                    204.11873  204.11873  `6`                  \n",
       "SUMMER                 198.14201  198.14201  SUMMER               \n",
       "`14`                   192.44168  192.44168  `14`                 \n",
       "SPRING                 191.36527  191.36527  SPRING               \n",
       "`13`                   191.35423  191.35423  `13`                 \n",
       "HOLIDAY                124.42374  124.42374  HOLIDAY              \n",
       "`1`                    116.84675  116.84675  `1`                  \n",
       "`15`                   109.73364  109.73364  `15`                 \n",
       "`7`                    106.75713  106.75713  `7`                  \n",
       "`23`                   103.80841  103.80841  `23`                 \n",
       "WIND_SPEED              31.91299   31.91299  WIND_SPEED           \n",
       "`0`                     29.29834   29.29834  `0`                  \n",
       "`16`                    23.12816   23.12816  `16`                 \n",
       "VISIBILITY              21.87164   21.87164  VISIBILITY           "
      ]
     },
     "metadata": {},
     "output_type": "display_data"
    }
   ],
   "source": [
    "sorted_df <- as.data.frame(sorted)\n",
    "sorted_df$coefficient <- as.numeric(sorted_df$sorted)\n",
    "sorted_df$feature <- row.names(sorted_df) \n",
    "sorted_df\n"
   ]
  },
  {
   "cell_type": "code",
   "execution_count": 121,
   "metadata": {},
   "outputs": [
    {
     "data": {
      "image/png": "[encoded data removed]",
      "text/plain": [
       "plot without title"
      ]
     },
     "metadata": {},
     "output_type": "display_data"
    }
   ],
   "source": [
    "sorted2 <- sorted_df                                                 # Replicate original data\n",
    "sorted2$feature <- factor(sorted2$feature,                                    # Factor levels in increasing order\n",
    "levels = sorted2$feature[order(sorted2$coefficient)])\n",
    "\n",
    "ggplot(data=sorted2,aes(feature,coefficient))+\n",
    "geom_bar(stat = \"identity\")+\n",
    "coord_flip()"
   ]
  },
  {
   "cell_type": "markdown",
   "metadata": {},
   "source": [
    "You should see a sorted coefficient bar chart like the following example:\n"
   ]
  },
  {
   "cell_type": "markdown",
   "metadata": {},
   "source": [
    "<a href=\"https://cognitiveclass.ai/?utm_medium=Exinfluencer&utm_source=Exinfluencer&utm_content=000026UJ&utm_term=10006555&utm_id=NA-SkillsNetwork-Channel-SkillsNetworkCoursesIBMDeveloperSkillsNetworkRP0321ENSkillsNetwork25371262-2021-01-01\">\n",
    "    <img src=\"https://cf-courses-data.s3.us.cloud-object-storage.appdomain.cloud/IBMDeveloperSkillsNetwork-RP0321EN-SkillsNetwork/labs/module_4/images/coefficient_chart.png\" width=\"600\" align=\"center\">\n",
    "</a>\n"
   ]
  },
  {
   "cell_type": "markdown",
   "metadata": {},
   "source": [
    "Mark down these 'top-ranked variables by coefficient', which will be used for model refinments in the next labs.\n"
   ]
  },
  {
   "cell_type": "markdown",
   "metadata": {},
   "source": [
    "# Next Steps\n"
   ]
  },
  {
   "cell_type": "markdown",
   "metadata": {},
   "source": [
    "Great! Now you have built a baseline linear regression model to predict hourly bike rent count, with reasonably good performance. In the next lab, you will be refining the baseline model to improve its performance.\n"
   ]
  },
  {
   "cell_type": "markdown",
   "metadata": {},
   "source": [
    "## Authors\n",
    "\n",
    "<a href=\"https://www.linkedin.com/in/yan-luo-96288783/?utm_medium=Exinfluencer&utm_source=Exinfluencer&utm_content=000026UJ&utm_term=10006555&utm_id=NA-SkillsNetwork-Channel-SkillsNetworkCoursesIBMDeveloperSkillsNetworkRP0321ENSkillsNetwork25371262-2021-01-01\" target=\"_blank\">Yan Luo</a>\n"
   ]
  },
  {
   "cell_type": "markdown",
   "metadata": {},
   "source": [
    "### Other Contributors\n",
    "\n",
    "Jeff Grossman\n"
   ]
  },
  {
   "cell_type": "markdown",
   "metadata": {},
   "source": [
    "## Change Log\n",
    "\n",
    "| Date (YYYY-MM-DD) | Version | Changed By | Change Description      |\n",
    "| ----------------- | ------- | ---------- | ----------------------- |\n",
    "| 2021-04-08        | 1.0     | Yan        | Initial version created |\n",
    "|                   |         |            |                         |\n",
    "|                   |         |            |                         |\n",
    "\n",
    "## <h3 align=\"center\"> © IBM Corporation 2021. All rights reserved. <h3/>\n"
   ]
  }
 ],
 "metadata": {
  "kernelspec": {
   "display_name": "R 3.6",
   "language": "R",
   "name": "r-3.6"
  },
  "language_info": {
   "codemirror_mode": "r",
   "file_extension": ".r",
   "mimetype": "text/x-r-source",
   "name": "R",
   "pygments_lexer": "r",
   "version": "3.6.1"
  }
 },
 "nbformat": 4,
 "nbformat_minor": 4
}
